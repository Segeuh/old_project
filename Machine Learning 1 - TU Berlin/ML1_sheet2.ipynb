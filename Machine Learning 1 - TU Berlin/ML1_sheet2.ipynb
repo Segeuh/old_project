{
  "nbformat": 4,
  "nbformat_minor": 0,
  "metadata": {
    "colab": {
      "name": "EXO 2 ML1 - Correction + mes notes.ipynb",
      "provenance": [],
      "collapsed_sections": []
    },
    "kernelspec": {
      "name": "python3",
      "display_name": "Python 3"
    },
    "language_info": {
      "name": "python"
    }
  },
  "cells": [
    {
      "cell_type": "markdown",
      "metadata": {
        "id": "lLGXsw6RDmvM"
      },
      "source": [
        "# **Maximum Likelihood Parameter Estimation**\n",
        "\n",
        "Cannot really import all the test c this time the formatting isn't correct and the formulas aren't recognized in the text / markup :/"
      ]
    },
    {
      "cell_type": "code",
      "metadata": {
        "id": "UFNbX88dBl4G"
      },
      "source": [
        "import numpy as np\n",
        "import matplotlib\n",
        "%matplotlib inline \n",
        "from matplotlib import pyplot as plt\n",
        "na = np.newaxis #adding a new dimension to the plot : default : 2 obviously ... Anyways\n",
        "log = np.log"
      ],
      "execution_count": null,
      "outputs": []
    },
    {
      "cell_type": "markdown",
      "metadata": {
        "id": "BldrumZFLcd8"
      },
      "source": [
        "On commence par définir une fonction sur mesure pour la probability distribution function"
      ]
    },
    {
      "cell_type": "code",
      "metadata": {
        "id": "vnu-WkPzHQMp"
      },
      "source": [
        "def pdf(X,THETA):\n",
        "  return (1.0/np.pi)*(1.0/np.pi)*(1.0 / (1+(X-THETA)**2))"
      ],
      "execution_count": null,
      "outputs": []
    },
    {
      "cell_type": "markdown",
      "metadata": {
        "id": "-T2nYS0tNVTe"
      },
      "source": [
        "#Question 1"
      ]
    },
    {
      "cell_type": "code",
      "metadata": {
        "id": "J-pYb5K8NW8v"
      },
      "source": [
        "def ll(D,THETA):   #La somme des logs pour différentes valeurs de THETA ... on ne maximise donc pas au travers d'un dérivation mais en choisissant la plus grande somme\n",
        "  return log(pdf(D[:,na],THETA[na,:])).sum(axis=0)\n"
      ],
      "execution_count": null,
      "outputs": []
    },
    {
      "cell_type": "code",
      "metadata": {
        "colab": {
          "base_uri": "https://localhost:8080/"
        },
        "id": "HV5K_OEOpGjg",
        "outputId": "c2a23ed2-c1be-4539-d230-cf7e2cab3322"
      },
      "source": [
        "D = np.array([ 2.803, -1.563, -0.853, 2.212, -0.334, 2.503])\n",
        "print(D[:,na])\n",
        "\n",
        "THETA = np.linspace(-10,10,1001)"
      ],
      "execution_count": null,
      "outputs": [
        {
          "output_type": "stream",
          "name": "stdout",
          "text": [
            "[[ 2.803]\n",
            " [-1.563]\n",
            " [-0.853]\n",
            " [ 2.212]\n",
            " [-0.334]\n",
            " [ 2.503]]\n"
          ]
        }
      ]
    },
    {
      "cell_type": "markdown",
      "metadata": {
        "id": "4WvFoi3hss5Y"
      },
      "source": [
        "numpy.linspace returns a array of evenly spaced intervals over the specified interval and number of increments\n",
        "\n",
        "synthax : numpy.linspace(start, stop, number_of_increments ..)"
      ]
    },
    {
      "cell_type": "code",
      "metadata": {
        "colab": {
          "base_uri": "https://localhost:8080/",
          "height": 299
        },
        "id": "dL6hYPjBtDRu",
        "outputId": "fb0f0e6d-f39d-4eda-e89a-aae6acb8cea3"
      },
      "source": [
        "plt.grid(True)\n",
        "plt.plot(THETA, ll(D,THETA))\n",
        "plt.xlabel(r'$\\theta$')\n",
        "plt.ylabel(r'$\\log p(\\mathcal{D}|\\theta)$')"
      ],
      "execution_count": null,
      "outputs": [
        {
          "output_type": "execute_result",
          "data": {
            "text/plain": [
              "Text(0, 0.5, '$\\\\log p(\\\\mathcal{D}|\\\\theta)$')"
            ]
          },
          "metadata": {},
          "execution_count": 81
        },
        {
          "output_type": "display_data",
          "data": {
            "image/png": "[encoded data removed]",
            "text/plain": [
              "<Figure size 432x288 with 1 Axes>"
            ]
          },
          "metadata": {
            "needs_background": "light"
          }
        }
      ]
    },
    {
      "cell_type": "markdown",
      "metadata": {
        "id": "TI7ZXZnawGwt"
      },
      "source": [
        "On remarque ici que la fonction n'est pas concave et possède deux maximum, un global et un local, on ne peut pas choisir facilement l'optimum"
      ]
    },
    {
      "cell_type": "markdown",
      "metadata": {
        "id": "_1H2DWgowZAQ"
      },
      "source": [
        "## **Building a classifier**"
      ]
    },
    {
      "cell_type": "code",
      "metadata": {
        "id": "8qWDw5UxwckS"
      },
      "source": [
        "D1 = np.array([ 2.803, -1.563, -0.853, 2.212, -0.334, 2.503])\n",
        "D2 = np.array([-4.510, -3.316, -3.050, -3.108, -2.315])"
      ],
      "execution_count": null,
      "outputs": []
    },
    {
      "cell_type": "code",
      "metadata": {
        "colab": {
          "base_uri": "https://localhost:8080/"
        },
        "id": "bg6llcKax8aq",
        "outputId": "ecbcd76d-564a-4da3-c418-ad6209126df4"
      },
      "source": [
        "np.argmax(ll(D1,THETA))"
      ],
      "execution_count": null,
      "outputs": [
        {
          "output_type": "execute_result",
          "data": {
            "text/plain": [
              "606"
            ]
          },
          "metadata": {},
          "execution_count": 83
        }
      ]
    },
    {
      "cell_type": "code",
      "metadata": {
        "id": "Vn4Mvwe2xO19"
      },
      "source": [
        "class MLClassifier:\n",
        "  def fit(self,THETA,D1,D2): #self is always pointing the the current object\n",
        "    self.theta1 = THETA[np.argmax(ll(D1,THETA))]\n",
        "    self.theta2 = THETA[np.argmax(ll(D2,THETA))]\n",
        "\n",
        "  def predict(self,X,p1,p2):\n",
        "   return log(pdf(X,self.theta1)) - log(pdf(X,self.theta2)) + log(p1) - log(p2)\n",
        "\n",
        "\n"
      ],
      "execution_count": null,
      "outputs": []
    },
    {
      "cell_type": "markdown",
      "metadata": {
        "id": "U8-_sQULzCPx"
      },
      "source": [
        "\"self\" is always pointing to the current object. It represents the instance of the class. By using the “self” keyword we can access the attributes and methods of the class in python"
      ]
    },
    {
      "cell_type": "code",
      "metadata": {
        "colab": {
          "base_uri": "https://localhost:8080/",
          "height": 279
        },
        "id": "IX5VkirA7EPj",
        "outputId": "ac8fca30-4b15-4c2b-8dc7-c5c1843cd0ae"
      },
      "source": [
        "X = np.linspace(-10,10,1001)\n",
        "plt.grid(True)\n",
        "mlcl = MLClassifier()\n",
        "mlcl.fit(THETA,D1,D2)\n",
        "\n",
        "plt.plot(X,mlcl.predict(X,0.5,0.5))\n",
        "plt.plot(X,0*X,color='black',ls='dotted')\n",
        "\n",
        "plt.xlabel(r'$x$')\n",
        "plt.ylabel(r'$g(x)$')\n",
        "for d1 in D1: plt.plot([d1,d1],[0,+0.5],color='black')\n",
        "for d2 in D2: plt.plot([d2,d2],[0,-0.5],color='black')"
      ],
      "execution_count": null,
      "outputs": [
        {
          "output_type": "display_data",
          "data": {
            "image/png": "[encoded data removed]",
            "text/plain": [
              "<Figure size 432x288 with 1 Axes>"
            ]
          },
          "metadata": {
            "needs_background": "light"
          }
        }
      ]
    },
    {
      "cell_type": "markdown",
      "metadata": {
        "id": "6hvf4ybU8trd"
      },
      "source": [
        "We see that one of the 'posible solution' from the precedent approach, if not the real maximum, isn't taken into consideratoin. It motivates us using a bayesian approach to see if this is would be more flexible with the possible answers."
      ]
    },
    {
      "cell_type": "markdown",
      "metadata": {
        "id": "bw7_xhKT9BYY"
      },
      "source": [
        "Here, we observe that the model essentially learns a threshold classifier with threshold approximately − 0.5. However, we note that the threshold seems to\n",
        "be too high to properly classify the data. One reason for this is the fact that **maximum likelihood estimate retains only the best parameter**. **Here, the model\n",
        "for the first class focuses mainly on the peak at x = 2 and treat examples x < 0 as outliers, without considering the possibility that the peak at θ = 2 might\n",
        "actually be the outlier**."
      ]
    },
    {
      "cell_type": "markdown",
      "metadata": {
        "id": "LdlnbydT9UZA"
      },
      "source": [
        "# **Bayesian shit**"
      ]
    },
    {
      "cell_type": "markdown",
      "metadata": {
        "id": "uBO3NGpC_PI1"
      },
      "source": [
        "**Trapezoidale integration  = methode des trapèzes**"
      ]
    },
    {
      "cell_type": "code",
      "metadata": {
        "id": "S-8nWRG4-Rda"
      },
      "source": [
        "def integrate(f,t):\n",
        "  return ((f[...,:-1] + f[...,1:])/2  * (t[1:]-t[-1])).sum(axis=-1) #trapezoidale integration"
      ],
      "execution_count": null,
      "outputs": []
    },
    {
      "cell_type": "markdown",
      "metadata": {
        "id": "1S1OIWzcKk34"
      },
      "source": [
        "\"...\" elypsis object : iterates over everything basically "
      ]
    },
    {
      "cell_type": "code",
      "metadata": {
        "id": "ZkOdYVOg9V9C"
      },
      "source": [
        "def prior(THETA): #definition de la pdf pour p(THETA) la pdf de la prior\n",
        "  return pdf(0,THETA / 10.0) / 10.0\n",
        "\n",
        "def posterior(D,THETA):\n",
        "  density = pdf(D[:,na],THETA[na,:]).prod(axis=0)\n",
        "  joint = density * prior(THETA)\n",
        "  integral = integrate(joint,THETA)\n",
        "\n",
        "  return joint/integral\n"
      ],
      "execution_count": null,
      "outputs": []
    },
    {
      "cell_type": "code",
      "metadata": {
        "colab": {
          "base_uri": "https://localhost:8080/",
          "height": 316
        },
        "id": "ifmcxLDh_qgn",
        "outputId": "a4226928-9fbb-4445-ec6c-ea6ef4e013df"
      },
      "source": [
        "THETA = np.linspace(-100,100,1001)\n",
        "\n",
        "plt.grid(True)\n",
        "plt.plot(THETA,np.log(prior(THETA)),label=r'$p(\\theta)$', color=\"orange\")\n",
        "plt.plot(THETA,np.log(posterior(D,THETA)),label=r'$p(\\theta|\\mathcal{D})$',color='blue')\n",
        "plt.legend();plt.xlabel(r'$\\theta$');plt.show()\n",
        "\n",
        "#plt.legend() without any arguments for an automatic detection of what should be in the legend.\n",
        "#plt.legend([\"A simple line\"]) for another case : here legend is / / are the elements of the "
      ],
      "execution_count": null,
      "outputs": [
        {
          "output_type": "stream",
          "name": "stderr",
          "text": [
            "/usr/local/lib/python3.7/dist-packages/ipykernel_launcher.py:5: RuntimeWarning: invalid value encountered in log\n",
            "  \"\"\"\n"
          ]
        },
        {
          "output_type": "display_data",
          "data": {
            "image/png": "[encoded data removed]",
            "text/plain": [
              "<Figure size 432x288 with 1 Axes>"
            ]
          },
          "metadata": {
            "needs_background": "light"
          }
        }
      ]
    },
    {
      "cell_type": "markdown",
      "metadata": {
        "id": "tfAPxty_I1K9"
      },
      "source": [
        "We observe that the posterior distribution is more concentrated to the specific values of the parameter that explain the dataset well. In particular, we\n",
        "observe the same two peaks around θ = − 0.5 and θ = 2 observed in the maximum likelihood exercise."
      ]
    },
    {
      "cell_type": "markdown",
      "metadata": {
        "id": "9qaOzvRPFhIx"
      },
      "source": [
        "PB ici jen'ai pas le meme resultat que le prof ... en gros p(D|O) ne s'affiche pas ... division par zero ? \"invalid value encounteredin log\""
      ]
    },
    {
      "cell_type": "markdown",
      "metadata": {
        "id": "VvTSSvNYFuxy"
      },
      "source": [
        "Bayes Classifier "
      ]
    },
    {
      "cell_type": "code",
      "metadata": {
        "id": "YbE4NCjZFwLH"
      },
      "source": [
        "class BayesClassifier:\n",
        "\n",
        "  def fit(self,THETA,D1,D2):\n",
        "\n",
        "    self.pos1  = posterior(D1,THETA)\n",
        "    self.pos2  = posterior(D2,THETA)\n",
        "\n",
        "    self.THETA = THETA\n",
        "\n",
        "  def predict(self,X,p1,p2):\n",
        "\n",
        "    density = pdf(X[:,na],self.THETA[na,:])\n",
        "\n",
        "    joint1  = density * self.pos1\n",
        "    joint2  = density * self.pos2\n",
        "\n",
        "    pdf1 = integrate(joint1,self.THETA)\n",
        "    pdf2 = integrate(joint2,self.THETA)\n",
        "\n",
        "    return log(pdf1) - log(pdf2) + log(p1) - log(p2)"
      ],
      "execution_count": null,
      "outputs": []
    },
    {
      "cell_type": "markdown",
      "metadata": {
        "id": "gUKcuvGSJBRx"
      },
      "source": [
        "We note that the function predict is computationally more expensive than the one for maximum likelihood since it involves computing an integral for\n",
        "each point to be predicted.\n",
        "However, the quality of the prediction also differs compared to that of the maximum likelihood method. In the plot below, we compare the ML and Bayes\n",
        "approaches."
      ]
    },
    {
      "cell_type": "code",
      "metadata": {
        "colab": {
          "base_uri": "https://localhost:8080/",
          "height": 279
        },
        "id": "1_LngNNRIxLQ",
        "outputId": "4612cb64-374b-4652-97a9-7d54d55f20e6"
      },
      "source": [
        "X = np.linspace(-10,10,1001)\n",
        "bacl = BayesClassifier()\n",
        "bacl.fit(THETA,D1,D2)\n",
        "plt.grid(True)\n",
        "plt.plot(X,mlcl.predict(X,0.5,0.5),label='ML')\n",
        "plt.plot(X,bacl.predict(X,0.5,0.5),label='Bayes')\n",
        "plt.plot(X,0*X,color='black',ls='dotted')\n",
        "plt.xlabel(r'$x$'); plt.ylabel(r'$g(x)$')\n",
        "plt.legend()\n",
        "for d1 in D1: plt.plot([d1,d1],[0,+0.5],color='black')\n",
        "for d2 in D2: plt.plot([d2,d2],[0,-0.5],color='black')"
      ],
      "execution_count": null,
      "outputs": [
        {
          "output_type": "display_data",
          "data": {
            "image/png": "[encoded data removed]",
            "text/plain": [
              "<Figure size 432x288 with 1 Axes>"
            ]
          },
          "metadata": {
            "needs_background": "light"
          }
        }
      ]
    },
    {
      "cell_type": "markdown",
      "metadata": {
        "id": "2yobIs8QJKCT"
      },
      "source": [
        "We observe that the Bayes classifier has generally lower output scores and its decision boundary has been noticeably shifted to the left, leading to better predictions for the current data. \n",
        "\n",
        "In this particular case, the difference between the two models can be explained by the fact that the Bayes one better integrates the possibility that negative examples for the first class are not necessarily outliers."
      ]
    }
  ]
}