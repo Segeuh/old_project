{
 "cells": [
  {
   "cell_type": "markdown",
   "metadata": {},
   "source": [
    "# Fisher Linear Discriminant\n",
    "\n",
    "In this exercise, we apply Fisher Linear Discriminant as described in Chapter 3.8.2 of Duda et al. on the UCI Abalone dataset. A description of the dataset is given at the page https://archive.ics.uci.edu/ml/datasets/Abalone. The following two methods are provided for your convenience: \n",
    "\n",
    "\n",
    "* **`utils.Abalone.__init__(self)`** reads the Abalone data and instantiates two data matrices corresponding to: *infant (I)*, *non-infant (N)*.\n",
    "\n",
    "\n",
    "* **`utils.Abalone.plot(self,w)`** produces a histogram of the data when projected onto a vector `w`, and where each class is shown in a different color.\n",
    "\n",
    "\n",
    "Sample code that makes use of these two methods is given below. It loads the data, looks at the shape of instantiated matrices, and plots the projection on the first dimension of the data representing the length of the abalone."
   ]
  },
  {
   "cell_type": "code",
   "execution_count": 12,
   "metadata": {},
   "outputs": [
    {
     "name": "stdout",
     "output_type": "stream",
     "text": [
      "(1342, 7) (2835, 7)\n",
      "<utils.Abalone object at 0x000002024C9C9370>\n"
     ]
    },
    {
     "data": {
      "image/png": "[encoded data removed]",
      "text/plain": [
       "<Figure size 432x144 with 1 Axes>"
      ]
     },
     "metadata": {
      "needs_background": "light"
     },
     "output_type": "display_data"
    }
   ],
   "source": [
    "%matplotlib inline\n",
    "import utils,numpy\n",
    "\n",
    "# Load the data\n",
    "abalone = utils.Abalone()\n",
    "\n",
    "# Print dataset size for each class\n",
    "print(abalone.I.shape, abalone.N.shape)\n",
    "print(abalone)\n",
    "\n",
    "# Project data on the first dimension (autrement dit sur le premier critère, la taille)\n",
    "w1 = numpy.array([1,0,0,0,0,0,0])\n",
    "abalone.plot(w1,'projection on the first dimension (length)')"
   ]
  },
  {
   "cell_type": "markdown",
   "metadata": {},
   "source": [
    "## Implementation (10 + 5 + 5 = 20 P)\n",
    "\n",
    "* **Create a function `w = fisher(X1,X2)` that takes as input the data for two classes and returns the Fisher linear discriminant.**\n",
    "\n",
    "\n",
    "* **Create a function `objective(X1,X2,w)` that evaluates the objective defined in Equation 96 of Duda et al. for an arbitrary projection vector `w`.**\n",
    "\n",
    "\n",
    "* **Create a function `z = phi(X)` that returns a quadratic expansion for each data point `x` in the dataset. Such expansion consists of the vector `x` itself, to which we concatenate the vector of all pairwise products between elements of `x`.** In other words, letting $x = (x_1,\\dots,x_d)$ denote the $d$-dimensional data point, the quadratic expansion for this data point is a $d \\cdot (d+3)/2$ dimensional vector given by $\\phi(x) = (x_i)_{1 \\leq i \\leq d} \\cup (x_i x_j)_{1 \\leq i \\leq j \\leq d}$. For example, the quadratic expansion for $d=2$ is $(x_1,x_2,x_1^2,x_2^2,x_1 x_2)$."
   ]
  },
  {
   "cell_type": "code",
   "execution_count": 13,
   "metadata": {},
   "outputs": [
    {
     "ename": "SyntaxError",
     "evalue": "unexpected EOF while parsing (<ipython-input-13-350bce9a8597>, line 23)",
     "output_type": "error",
     "traceback": [
      "\u001b[1;36m  File \u001b[1;32m\"<ipython-input-13-350bce9a8597>\"\u001b[1;36m, line \u001b[1;32m23\u001b[0m\n\u001b[1;33m    \u001b[0m\n\u001b[1;37m    ^\u001b[0m\n\u001b[1;31mSyntaxError\u001b[0m\u001b[1;31m:\u001b[0m unexpected EOF while parsing\n"
     ]
    }
   ],
   "source": [
    "def fischer(X1,X2): \n",
    "    mean_difference = np.absolute(\n",
    "        X1.mean(axis=0) - X2.mean(axis=0)\n",
    "    )\n",
    "    s_w = (X1.var(axis=0) + X2.var(axis=0)).sum(axis=0)\n",
    "    print((mean_difference/s_w).type())\n",
    "    return mean_difference/s_w\n",
    "\n",
    "def objective(X1,X2,w): \n",
    "    s_w       = (X1.var(axis=0) + X2.var(axis=0)).sum(axis=0) #Emma me dit de ne pas garder le sum mais je verrai plus tard\n",
    "    s_b       = numpy.dot((X1.means(axis=0) - X2.means(axis=0)),(X1.means(axis=0) - X2.means(axis=0)))\n",
    "    #J'ai un indent de trop immédiatement ici je ne comprends pas pourquoi\n",
    "    s_b_tilde = w@s_b@w\n",
    "    s_w_tilde = w@s_w@w\n",
    "    #La fonction objective est le produit des valeurs absolues de s_b et s_w tilde\n",
    "    j_of_w    = numpy.absolute(s_b_tilde) / numpy.absolute(s_w_tilde)\n",
    "    return j_of_w\n",
    "\n",
    "def phi(x):\n",
    "    \n",
    "    \n",
    "    \n",
    "    "
   ]
  },
  {
   "cell_type": "code",
   "execution_count": 14,
   "metadata": {
    "scrolled": true
   },
   "outputs": [],
   "source": [
    "#Basé sur Emma's : on a utiliser des formules différentes, je pense que la sienne est celle qu'on doit utiliser meme si je comprends pas pourquoi\n",
    "\n",
    "def fisher(X1,X2):\n",
    "    mean_difference = np.absolute(\n",
    "        X1.mean(axis=0) - X2.mean(axis=0)\n",
    "    )\n",
    "    # not surif we should take the square root\n",
    "    sum_variation = (X1.var(axis=0) + X2.var(axis=0))\n",
    "    return (mean_difference)/sum_variation\n",
    "    \n",
    "def objective(X1,X2,w):\n",
    "    sum_variation = (X1.var(axis=0) + X2.var(axis=0)).sum(axis=0)\n",
    "    return (X1.mean(axis=0)/sum_variation - X2.mean(axis=0)/sum_variation)**2\n",
    "    "
   ]
  },
  {
   "cell_type": "code",
   "execution_count": 15,
   "metadata": {},
   "outputs": [],
   "source": [
    "\n",
    "\n",
    "def fischer1(X1,X2): #Ma version : pas besoin de monter au carré on utilise le w deja optimisé ... valeur **2 donc positives\n",
    "    mean_diff = numpy/asbolute(\n",
    "        X1.means(axis=0) - X2.means(axis=0)\n",
    "    )\n",
    "    s_w = (X1.var(axis=0) + X2.var(axis=0))\n",
    "    s_b = numpy.dot((X1 - X2),(X1 - X2))\n",
    "    w_opti = mean_diff / s_w\n",
    "    criterion_function = (numpy.dot(numpy.dot(w_opti,S_b),w_opti))**2/(numpy.dot(numpy.dot(w_opti,S_w),w_opti))\n",
    "    return criterion_function\n",
    "\n",
    "def fisher2(X1,X2): #Version comme Emma mais avec les mean_diff au carré\n",
    "    mean_difference = np.absolute(\n",
    "        X1.mean(axis=0) - X2.mean(axis=0)\n",
    "    )\n",
    "    # not surif we should take the square root\n",
    "    s_w = (X1.var(axis=0) + X2.var(axis=0)).sum(axis=0)\n",
    "    return (mean_difference**2)/s_w\n",
    "    \n",
    "def objective(X1,X2,w):\n",
    "    mean_total = (X1.means(axis=0) + X2.means(axis=0)).means(axis=0)\n",
    "    s_w_96 = (numpy.dot((X1.means(axis=0) - mean_total),(X1.means(axis=0) - mean_total))) + (numpy.dot((X2.means(axis=0) - mean_total),(X2.means(axis=0) - mean_total)))\n",
    "    return s_w_96\n",
    "    \n",
    "def objective2(X1,X2,w): #Je ne change rien, c'est bien la formule à trouver (pas d'ambiguïté)\n",
    "    s_w = (X1.var(axis=0) + X2.var(axis=0)).sum(axis=0)\n",
    "    return (X1.mean(axis=0)/sum_variation - X2.mean(axis=0)/sum_variation)**2    "
   ]
  },
  {
   "cell_type": "code",
   "execution_count": 16,
   "metadata": {},
   "outputs": [],
   "source": [
    "\n",
    "def sqr_mat(X):\n",
    "    import numpy as np\n",
    "    X = np.array(list(range(1,10)))\n",
    "    new_list = []\n",
    "    #pour faire d'un produit d'array une matrice carré comme on la connait : \n",
    "    for i in range(1,len(X)+1):\n",
    "        new_list.append(list(X*[i]))\n",
    "        XX = np.array(new_list)\n",
    "    print(\"XX is : \\n\", XX)\n"
   ]
  },
  {
   "cell_type": "markdown",
   "metadata": {},
   "source": [
    "#La correction du prof : "
   ]
  },
  {
   "cell_type": "code",
   "execution_count": 33,
   "metadata": {},
   "outputs": [],
   "source": [
    "import numpy as np\n",
    "\n",
    "def SW(X): #The within class scatter matrix\n",
    "    Z = X - X.mean(axis=0)\n",
    "    return np.dot(Z.T,Z)  \n",
    "\n",
    "#Produit matriciel de Z par Z, matrice contenant les valeurs des classes moins leurs moyennes\n",
    "#Ca correspond à faire le carré des différences entre les réalisations de chaque classe et la moyenne de la\n",
    "#classe correspondate. Donc le 'scatter' pour chaque classe.\n",
    "#On précisera sur quelle conlasse on fait cette variance en choississant l'input, e bas X1 et X2 our les classes 1 et 2\n",
    "\n",
    "def fisher(X1,X2): #Within class scatter matrix inverse *times* the difference of means \n",
    "    sw = SW(X1) + SW(X2)\n",
    "    dm = X2.mean(axis=0) - X1.mean(axis=0)\n",
    "    w  = numpy.linalg.inv(sw).dot(dm) #w* = Sw^-1 * (diff de means) : Voir cours pr derivatoin de la formule\n",
    "    w / (w**2).sum()**.5   #norme de w ... Somme des \n",
    "    return w\n",
    "    \n",
    "def objective(X1,X2,w):\n",
    "    sw = SW(X1) + SW(X2)\n",
    "    dm   = X2.mean(axis=0) - X1.mean(axis=0)\n",
    "    wSBw = (w.dot(dm))**2\n",
    "    wSWw = sw.dot(w).dot(w)\n",
    "    return wSBw / wSWw\n",
    "\n",
    "#Process the data : makes it higher dimensional to better separates the centers\n",
    "def expand(X):\n",
    "    ind = np.triu_indices(X.shape[1])\n",
    "    X   = numpy.array(\n",
    "    [\n",
    "        np.concatenate([X, np.outer(X,X)[ind] ]) for X in X\n",
    "        #numpy.outer(a, b) : compute the outer product of the vectors a and b\n",
    "        #retourne une matrix de tout les ai*bj pour tout i, j ... \n",
    "    ])\n",
    "    \n",
    "    \n",
    "    \n",
    "    \n",
    "    "
   ]
  },
  {
   "cell_type": "markdown",
   "metadata": {},
   "source": [
    "## Analysis (5 + 5 = 10 P)\n",
    "\n",
    "* **Print value of the objective function and the histogram for several values of `w`:**\n",
    "\n",
    "  * `w` is a canonical coordinate vector for the first feature (length).\n",
    "  * `w` is the difference between the mean vectors of the two classes.\n",
    "  * `w` is the Fisher linear discriminant.\n",
    "  * `w` is the Fisher linear discriminant (after quadratic expansion of the data)."
   ]
  },
  {
   "cell_type": "code",
   "execution_count": 34,
   "metadata": {},
   "outputs": [
    {
     "name": "stdout",
     "output_type": "stream",
     "text": [
      "0.00047979575003284755\n"
     ]
    },
    {
     "data": {
      "image/png": "[encoded data removed]",
      "text/plain": [
       "<Figure size 432x144 with 1 Axes>"
      ]
     },
     "metadata": {
      "needs_background": "light"
     },
     "output_type": "display_data"
    },
    {
     "name": "stdout",
     "output_type": "stream",
     "text": [
      "0.0004995753519750719\n"
     ]
    },
    {
     "data": {
      "image/png": "[encoded data removed]",
      "text/plain": [
       "<Figure size 432x144 with 1 Axes>"
      ]
     },
     "metadata": {
      "needs_background": "light"
     },
     "output_type": "display_data"
    },
    {
     "name": "stdout",
     "output_type": "stream",
     "text": [
      "0.0005691815990406671\n"
     ]
    },
    {
     "data": {
      "image/png": "[encoded data removed]",
      "text/plain": [
       "<Figure size 432x144 with 1 Axes>"
      ]
     },
     "metadata": {
      "needs_background": "light"
     },
     "output_type": "display_data"
    },
    {
     "ename": "AttributeError",
     "evalue": "'NoneType' object has no attribute 'mean'",
     "output_type": "error",
     "traceback": [
      "\u001b[1;31m---------------------------------------------------------------------------\u001b[0m",
      "\u001b[1;31mAttributeError\u001b[0m                            Traceback (most recent call last)",
      "\u001b[1;32m<ipython-input-34-74d0fb74ee69>\u001b[0m in \u001b[0;36m<module>\u001b[1;34m\u001b[0m\n\u001b[0;32m     22\u001b[0m \u001b[1;33m\u001b[0m\u001b[0m\n\u001b[0;32m     23\u001b[0m \u001b[1;31m#Fisher linear discriminant, expanded data : augmenation de la complexité\u001b[0m\u001b[1;33m\u001b[0m\u001b[1;33m\u001b[0m\u001b[1;33m\u001b[0m\u001b[0m\n\u001b[1;32m---> 24\u001b[1;33m \u001b[0mw\u001b[0m \u001b[1;33m=\u001b[0m \u001b[0mfisher\u001b[0m\u001b[1;33m(\u001b[0m\u001b[0mexpand\u001b[0m\u001b[1;33m(\u001b[0m\u001b[0mdata\u001b[0m\u001b[1;33m.\u001b[0m\u001b[0mI\u001b[0m\u001b[1;33m)\u001b[0m\u001b[1;33m,\u001b[0m\u001b[0mexpand\u001b[0m\u001b[1;33m(\u001b[0m\u001b[0mdata\u001b[0m\u001b[1;33m.\u001b[0m\u001b[0mN\u001b[0m\u001b[1;33m)\u001b[0m\u001b[1;33m)\u001b[0m\u001b[1;33m\u001b[0m\u001b[1;33m\u001b[0m\u001b[0m\n\u001b[0m\u001b[0;32m     25\u001b[0m \u001b[0mprint\u001b[0m\u001b[1;33m(\u001b[0m\u001b[0mobjective\u001b[0m\u001b[1;33m(\u001b[0m\u001b[0mexpand\u001b[0m\u001b[1;33m(\u001b[0m\u001b[0mdata\u001b[0m\u001b[1;33m.\u001b[0m\u001b[0mI\u001b[0m\u001b[1;33m)\u001b[0m\u001b[1;33m,\u001b[0m\u001b[0mexpand\u001b[0m\u001b[1;33m(\u001b[0m\u001b[0mdata\u001b[0m\u001b[1;33m.\u001b[0m\u001b[0mN\u001b[0m\u001b[1;33m)\u001b[0m\u001b[1;33m,\u001b[0m\u001b[0mw\u001b[0m\u001b[1;33m)\u001b[0m\u001b[1;33m)\u001b[0m\u001b[1;33m\u001b[0m\u001b[1;33m\u001b[0m\u001b[0m\n\u001b[0;32m     26\u001b[0m \u001b[0mdata\u001b[0m\u001b[1;33m.\u001b[0m\u001b[0mI\u001b[0m \u001b[1;33m=\u001b[0m \u001b[0mexpand\u001b[0m\u001b[1;33m(\u001b[0m\u001b[0mdata\u001b[0m\u001b[1;33m.\u001b[0m\u001b[0mI\u001b[0m\u001b[1;33m)\u001b[0m\u001b[1;33m\u001b[0m\u001b[1;33m\u001b[0m\u001b[0m\n",
      "\u001b[1;32m<ipython-input-33-5fecaae1870e>\u001b[0m in \u001b[0;36mfisher\u001b[1;34m(X1, X2)\u001b[0m\n\u001b[0;32m     11\u001b[0m \u001b[1;33m\u001b[0m\u001b[0m\n\u001b[0;32m     12\u001b[0m \u001b[1;32mdef\u001b[0m \u001b[0mfisher\u001b[0m\u001b[1;33m(\u001b[0m\u001b[0mX1\u001b[0m\u001b[1;33m,\u001b[0m\u001b[0mX2\u001b[0m\u001b[1;33m)\u001b[0m\u001b[1;33m:\u001b[0m \u001b[1;31m#Within class scatter matrix inverse *times* the difference of means\u001b[0m\u001b[1;33m\u001b[0m\u001b[1;33m\u001b[0m\u001b[0m\n\u001b[1;32m---> 13\u001b[1;33m     \u001b[0msw\u001b[0m \u001b[1;33m=\u001b[0m \u001b[0mSW\u001b[0m\u001b[1;33m(\u001b[0m\u001b[0mX1\u001b[0m\u001b[1;33m)\u001b[0m \u001b[1;33m+\u001b[0m \u001b[0mSW\u001b[0m\u001b[1;33m(\u001b[0m\u001b[0mX2\u001b[0m\u001b[1;33m)\u001b[0m\u001b[1;33m\u001b[0m\u001b[1;33m\u001b[0m\u001b[0m\n\u001b[0m\u001b[0;32m     14\u001b[0m     \u001b[0mdm\u001b[0m \u001b[1;33m=\u001b[0m \u001b[0mX2\u001b[0m\u001b[1;33m.\u001b[0m\u001b[0mmean\u001b[0m\u001b[1;33m(\u001b[0m\u001b[0maxis\u001b[0m\u001b[1;33m=\u001b[0m\u001b[1;36m0\u001b[0m\u001b[1;33m)\u001b[0m \u001b[1;33m-\u001b[0m \u001b[0mX1\u001b[0m\u001b[1;33m.\u001b[0m\u001b[0mmean\u001b[0m\u001b[1;33m(\u001b[0m\u001b[0maxis\u001b[0m\u001b[1;33m=\u001b[0m\u001b[1;36m0\u001b[0m\u001b[1;33m)\u001b[0m\u001b[1;33m\u001b[0m\u001b[1;33m\u001b[0m\u001b[0m\n\u001b[0;32m     15\u001b[0m     \u001b[0mw\u001b[0m  \u001b[1;33m=\u001b[0m \u001b[0mnumpy\u001b[0m\u001b[1;33m.\u001b[0m\u001b[0mlinalg\u001b[0m\u001b[1;33m.\u001b[0m\u001b[0minv\u001b[0m\u001b[1;33m(\u001b[0m\u001b[0msw\u001b[0m\u001b[1;33m)\u001b[0m\u001b[1;33m.\u001b[0m\u001b[0mdot\u001b[0m\u001b[1;33m(\u001b[0m\u001b[0mdm\u001b[0m\u001b[1;33m)\u001b[0m \u001b[1;31m#w* = Sw^-1 * (diff de means) : Voir cours pr derivatoin de la formule\u001b[0m\u001b[1;33m\u001b[0m\u001b[1;33m\u001b[0m\u001b[0m\n",
      "\u001b[1;32m<ipython-input-33-5fecaae1870e>\u001b[0m in \u001b[0;36mSW\u001b[1;34m(X)\u001b[0m\n\u001b[0;32m      2\u001b[0m \u001b[1;33m\u001b[0m\u001b[0m\n\u001b[0;32m      3\u001b[0m \u001b[1;32mdef\u001b[0m \u001b[0mSW\u001b[0m\u001b[1;33m(\u001b[0m\u001b[0mX\u001b[0m\u001b[1;33m)\u001b[0m\u001b[1;33m:\u001b[0m \u001b[1;31m#The within class scatter matrix\u001b[0m\u001b[1;33m\u001b[0m\u001b[1;33m\u001b[0m\u001b[0m\n\u001b[1;32m----> 4\u001b[1;33m     \u001b[0mZ\u001b[0m \u001b[1;33m=\u001b[0m \u001b[0mX\u001b[0m \u001b[1;33m-\u001b[0m \u001b[0mX\u001b[0m\u001b[1;33m.\u001b[0m\u001b[0mmean\u001b[0m\u001b[1;33m(\u001b[0m\u001b[0maxis\u001b[0m\u001b[1;33m=\u001b[0m\u001b[1;36m0\u001b[0m\u001b[1;33m)\u001b[0m\u001b[1;33m\u001b[0m\u001b[1;33m\u001b[0m\u001b[0m\n\u001b[0m\u001b[0;32m      5\u001b[0m     \u001b[1;32mreturn\u001b[0m \u001b[0mnp\u001b[0m\u001b[1;33m.\u001b[0m\u001b[0mdot\u001b[0m\u001b[1;33m(\u001b[0m\u001b[0mZ\u001b[0m\u001b[1;33m.\u001b[0m\u001b[0mT\u001b[0m\u001b[1;33m,\u001b[0m\u001b[0mZ\u001b[0m\u001b[1;33m)\u001b[0m\u001b[1;33m\u001b[0m\u001b[1;33m\u001b[0m\u001b[0m\n\u001b[0;32m      6\u001b[0m \u001b[1;33m\u001b[0m\u001b[0m\n",
      "\u001b[1;31mAttributeError\u001b[0m: 'NoneType' object has no attribute 'mean'"
     ]
    }
   ],
   "source": [
    "#Canoncial coordinate vector : Exactement ce qu'il en est : des coordonnées dans un espace pour un point\n",
    "\n",
    "%matplotlib inline\n",
    "\n",
    "data = utils.Abalone()\n",
    "\n",
    "#Canonical vector : \n",
    "#W project onto the direction of the canonical \n",
    "w = np.array([1.0,0,0,0,0,0,0])\n",
    "print(objective(data.I, data.N,w))\n",
    "data.plot(w,'Fisher')\n",
    "\n",
    "#difference of means vectors of the two classes: \n",
    "w = data.I.mean(axis=0)-data.N.mean(axis=0)\n",
    "print(objective(data.I, data.N,w))\n",
    "data.plot(w,'Fisher')\n",
    "\n",
    "#With the fisher linear discriminant : \n",
    "w = fisher(data.I,data.N)\n",
    "print(objective(data.I, data.N,w))\n",
    "data.plot(w,'Fisher')\n",
    "\n",
    "#Fisher linear discriminant, expanded data : augmenation de la complexité\n",
    "w = fisher(expand(data.I),expand(data.N))\n",
    "print(objective(expand(data.I),expand(data.N),w))\n",
    "data.I = expand(data.I)\n",
    "data.N = epand(data.N)\n",
    "data.plot(w,'Fisher Q')\n",
    "\n"
   ]
  },
  {
   "cell_type": "markdown",
   "metadata": {},
   "source": [
    "### Pour l'interpretation : regarder les différences dans la séparabilité, et la dispersion autour des moyennes. \n",
    "\n",
    "Le but étant d'augmenter la séparabilité entre les moyennes et de diminuer la dispersion, pour eviter que trop d'obervations ne se superposent et ne soit donc, mal identifiées.\n",
    "\n",
    "Revoir dans les détails ce que sont les fomrules rentrées par les différents codes ci dessus. "
   ]
  }
 ],
 "metadata": {
  "kernelspec": {
   "display_name": "Python 3",
   "language": "python",
   "name": "python3"
  },
  "language_info": {
   "codemirror_mode": {
    "name": "ipython",
    "version": 3
   },
   "file_extension": ".py",
   "mimetype": "text/x-python",
   "name": "python",
   "nbconvert_exporter": "python",
   "pygments_lexer": "ipython3",
   "version": "3.8.8"
  }
 },
 "nbformat": 4,
 "nbformat_minor": 1
}
